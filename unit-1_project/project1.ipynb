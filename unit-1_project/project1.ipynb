{
 "cells": [
  {
   "cell_type": "markdown",
   "metadata": {},
   "source": [
    "<img src=\"http://imgur.com/1ZcRyrc.png\" style=\"float: left; margin: 20px; height: 55px\">\n",
    "\n",
    "# Project 1: Python Coding Exercises\n",
    "\n",
    "_Authors: Joseph Nelson (DC), Dan Wilhelm (LA)_\n",
    "\n",
    "---"
   ]
  },
  {
   "cell_type": "markdown",
   "metadata": {},
   "source": [
    "The following code challenges are drawn from common exercises used in technical interviews.\n",
    "\n",
    "Please note that there may be several ways to approach each challenge. If you get stuck, try mapping out your approach in pseudocode first. Finally, while solutions to problems like these may be found online, remember that if you copy/paste code that you can't explain, you'll be missing out on the point of the project. The only way to truly learn a new skill is through practice, trial, and error - we can only help you improve by understanding where you are having trouble."
   ]
  },
  {
   "cell_type": "markdown",
   "metadata": {},
   "source": [
    "### Challenge 1: Largest Palindrome\n",
    "A palindromic number reads the same both ways. For example, 1234321 is a palindrome. The largest palindrome made from the product of two two-digit numbers is 9009 = 91 × 99. Find the largest palindrome made from the product of two three-digit numbers. Afterward, write a brief explanation walking through your code's logic in markdown."
   ]
  },
  {
   "cell_type": "code",
   "execution_count": 1,
   "metadata": {},
   "outputs": [],
   "source": [
    "# Helper function to determine whether a number is a palindrome.\n",
    "# Converts number into string and does a comparison with the reverse string.\n",
    "def isPalindrome(number):\n",
    "    str_number = str(number)\n",
    "    return str_number[::-1] == str_number"
   ]
  },
  {
   "cell_type": "code",
   "execution_count": 2,
   "metadata": {},
   "outputs": [
    {
     "name": "stdout",
     "output_type": "stream",
     "text": [
      "913 993\n",
      "906609\n"
     ]
    }
   ],
   "source": [
    "# To find the largest palindrome made from the product of two three-digit numbers:\n",
    "# 1. Iterate through all the three-digit number (100-999) pairs\n",
    "# 2. Calculate the product\n",
    "# 3. Check whether it is a Palindrome\n",
    "# 4. If it is, check whether it is bigger than the last seen biggest palindrome\n",
    "#    - Note that we start the last seen biggest palindrome at 0\n",
    "max_i, max_j, max_product = 0, 0, 0\n",
    "for i in range(100, 1000):\n",
    "    for j in range(100, 1000):\n",
    "        product = i * j\n",
    "        if isPalindrome(product):\n",
    "            if product > max_product:\n",
    "                max_i, max_j = i, j\n",
    "                max_product = product\n",
    "\n",
    "print(max_i, max_j)\n",
    "print(max_product)"
   ]
  },
  {
   "cell_type": "markdown",
   "metadata": {},
   "source": [
    "### Explanation\n",
    "To find the largest palindrome made from the product of two three-digit numbers:\n",
    "1. Iterate through all the three-digit number (100-999) pairs\n",
    "2. Calculate the product\n",
    "3. Check whether it is a Palindrome\n",
    "4. If it is, check whether it is bigger than the last seen biggest palindrome (Note that we start the last seen biggest palindrome at 0)"
   ]
  },
  {
   "cell_type": "markdown",
   "metadata": {},
   "source": [
    "\n",
    "### Challenge 2: Summation of Primes\n",
    "The sum of the primes below 10 is 2 + 3 + 5 + 7 = 17. Find the sum of all the primes below 2,000. Afterward, write a brief explanation walking through your code's logic in markdown."
   ]
  },
  {
   "cell_type": "code",
   "execution_count": 3,
   "metadata": {},
   "outputs": [],
   "source": [
    "# Helper function to determine whether a number is prime.\n",
    "# Checks whether number is less than or equal to 1, since primes numbers must be greater than 1\n",
    "# If it is greater than 1, checks that number isn't divisible by any numbers in range(2, number)\n",
    "def isPrime(number):\n",
    "    # Prime numbers are greater than 1\n",
    "    if number <= 1:\n",
    "        return False\n",
    "    \n",
    "    is_prime = True\n",
    "    for i in range(2, number):\n",
    "        if number % i == 0:\n",
    "            is_prime = False\n",
    "        \n",
    "    return is_prime"
   ]
  },
  {
   "cell_type": "code",
   "execution_count": 4,
   "metadata": {},
   "outputs": [
    {
     "name": "stdout",
     "output_type": "stream",
     "text": [
      "277050\n"
     ]
    }
   ],
   "source": [
    "# To find the sum of all the primes below 2000:\n",
    "# 1. Iterate through range(0, 2000)\n",
    "# 2. If the number is prime, add it to the running total\n",
    "prime_sum = 0\n",
    "for i in range(0, 2000):\n",
    "    if isPrime(i):\n",
    "        prime_sum += i\n",
    "        \n",
    "print(prime_sum)"
   ]
  },
  {
   "cell_type": "markdown",
   "metadata": {},
   "source": [
    "### Explanation\n",
    "To find the sum of all the primes below 2000:\n",
    "1. Iterate through range(0, 2000)\n",
    "2. If the number is prime, add it to the running total"
   ]
  },
  {
   "cell_type": "markdown",
   "metadata": {},
   "source": [
    "### Challenge 3: Multiples of 3 and 5\n",
    "If we list all of the natural numbers below 10 that are multiples of 3 or 5, we get 3, 5, 6, and 9. The sum of these multiples is 23. Find the sum of all the multiples of 3 and 5 below 1,000. Afterward, write a brief explanation walking through your code's logic in markdown."
   ]
  },
  {
   "cell_type": "code",
   "execution_count": 5,
   "metadata": {},
   "outputs": [],
   "source": [
    "# Helper function to determine whether number is multiple of 3 or 5\n",
    "def my_multiple(number):\n",
    "    if number % 3 == 0 or number % 5 == 0:\n",
    "        return True\n",
    "    return False"
   ]
  },
  {
   "cell_type": "code",
   "execution_count": 6,
   "metadata": {},
   "outputs": [
    {
     "name": "stdout",
     "output_type": "stream",
     "text": [
      "233168\n"
     ]
    }
   ],
   "source": [
    "# To find the sum of all the multiples of 3 and 5 below 1000:\n",
    "# 1) Iterate through range(0, 1000)\n",
    "# 2) If the number is a multiple of 3 or 5, add it to the running total\n",
    "running_total = 0\n",
    "for i in range(0, 1000):\n",
    "    if my_multiple(i):\n",
    "        running_total += i\n",
    "    \n",
    "print(running_total)"
   ]
  },
  {
   "cell_type": "markdown",
   "metadata": {},
   "source": [
    "### Explanation\n",
    "To find the sum of all the multiples of 3 and 5 below 1000:\n",
    "1. Iterate through range(0, 1000)\n",
    "2. If the number is a multiple of 3 or 5, add it to the running total"
   ]
  },
  {
   "cell_type": "markdown",
   "metadata": {},
   "source": [
    "### Challenge 4: String Compressor\n",
    "Write a function to perform basic string compression using the counts of repeated characters. (This is called run-length encoding.) For example, the string \"aabcccccaaa\" would become a2b1c5a3. If the “compressed” string would not become smaller than the original string, your method should return the original string. You can assume the string has only uppercase and lowercase letters (a–z). Specify whether your solution is case sensitive or case insensitive and what you would need to change to make it the other. Afterward, write a brief explanation walking through your code's logic in markdown."
   ]
  },
  {
   "cell_type": "code",
   "execution_count": 7,
   "metadata": {},
   "outputs": [],
   "source": [
    "# To compress the string:\n",
    "# 1. Iterate through all the characters in the string\n",
    "# 2. If the character is the same as the previous character, iterate a counter\n",
    "# 3. Otherwise, concatenate the character and it's count to a running string.\n",
    "# 4. At the end, need to append the current_char and it's count, since the loop concatenates\n",
    "#    before looking at the next character - meaning the last character is skipped.\n",
    "# 5. Check whether the running string is actually smaller and return if so.\n",
    "#    Otherwise return original string\n",
    "\n",
    "# Note: this solution is case sensitive. In order to make it case insensitive,\n",
    "# I would need to ignore the casing when I do the comparison of the ch and current_char.\n",
    "# That could be done by either converting both to lowercase or both to uppercase.\n",
    "def stringCompression(str_input):\n",
    "    current_char = str_input[0]\n",
    "    current_char_count = 1\n",
    "    compressed_str = ''\n",
    "    for ch in str_input[1:]:\n",
    "        if ch == current_char:\n",
    "            current_char_count += 1\n",
    "        else:\n",
    "            compressed_str += current_char + str(current_char_count)\n",
    "            current_char = ch\n",
    "            current_char_count = 1\n",
    "            \n",
    "    compressed_str += current_char + str(current_char_count)\n",
    "\n",
    "    if len(compressed_str) > len(str_input):\n",
    "        return str_input\n",
    "    return compressed_str"
   ]
  },
  {
   "cell_type": "markdown",
   "metadata": {},
   "source": [
    "### Explanation\n",
    "To compress the string:\n",
    "1. Iterate through all the characters in the string\n",
    "2. If the character is the same as the previous character, iterate a counter\n",
    "3. Otherwise, concatenate the character and it's count to a running string.\n",
    "4. At the end, need to append the current_char and it's count, since the loop concatenates\n",
    "   before looking at the next character - meaning the last character is skipped.\n",
    "5. Check whether the running string is actually smaller and return if so.\n",
    "   Otherwise return original string\n",
    "\n",
    "Note: this solution is case sensitive. In order to make it case insensitive,\n",
    "I would need to ignore the casing when I do the comparison of the ch and current_char.\n",
    "That could be done by either converting both to lowercase or both to uppercase."
   ]
  },
  {
   "cell_type": "markdown",
   "metadata": {},
   "source": [
    "### Challenge 5: CSV Reader\n",
    "Write a function `read_csv` that opens a CSV file and returns a list of named tuples. \n",
    "\n",
    "+ Read the [namedtuple docs](https://docs.python.org/3/library/collections.html#collections.namedtuple).\n",
    "+ Do not use the Python CSV reader standard library.\n",
    "+ Assume the first row of the CSV file is always a header row. \n",
    "+ Assume the CSV file does not contain any quoted fields.\n",
    "+ Assume no fields are missing or have invalid values.\n",
    "+ All returned fields can be left as strings.\n",
    "\n",
    "Optional challenges:\n",
    "+ _Optional:_ Support quoted fields. (A double-quoted string can contain commas without indicating a new field.) For an example and test case, see `./data/athletes-original.csv`.\n",
    "+ _Optional:_ Implement the `dtypes` parameter. This dictionary specifies the data type that each CSV field should be converted to. For example, `int` would indicate the field should be converted from a string to an integer. If a field is not named, leave it as a string. See the dictionary in the below starter code for an example.\n",
    "\n",
    "_Hint:_ The final output will look like:\n",
    "\n",
    "[Row(name='Lamusi A', sport='Judo', age='23', height='170', weight='60', country=\"People's Republic of China\", sex='M', gold='0', silver='0', bronze='0', total='0'), \n",
    "\n",
    "Row(name='A G Kruger', sport='Athletics', age='33', height='193', weight='125', country='United States of America', sex='M', gold='0', silver='0', bronze='0', total='0'),\n",
    "\n",
    "...]"
   ]
  },
  {
   "cell_type": "code",
   "execution_count": 8,
   "metadata": {},
   "outputs": [
    {
     "data": {
      "text/plain": [
       "[Row(name='Lamusi A', sport='Judo', age='23', height='170', weight='60', country=\"People's Republic of China\", sex='M', gold='0', silver='0', bronze='0', total='0'),\n",
       " Row(name='A G Kruger', sport='Athletics', age='33', height='193', weight='125', country='United States of America', sex='M', gold='0', silver='0', bronze='0', total='0'),\n",
       " Row(name='Jamale Aarrass', sport='Athletics', age='30', height='187', weight='76', country='France', sex='M', gold='0', silver='0', bronze='0', total='0'),\n",
       " Row(name='Abdelhak Aatakni', sport='Boxing', age='24', height='', weight='', country='Morocco', sex='M', gold='0', silver='0', bronze='0', total='0'),\n",
       " Row(name='Maria Abakumova', sport='Athletics', age='26', height='178', weight='85', country='Russian Federation', sex='F', gold='0', silver='0', bronze='0', total='0'),\n",
       " Row(name='Luc Abalo', sport='Handball', age='27', height='182', weight='80', country='France', sex='M', gold='0', silver='0', bronze='0', total='0'),\n",
       " Row(name='Maria Laura Abalo', sport='Rowing', age='30', height='182', weight='73', country='Argentina', sex='F', gold='0', silver='0', bronze='0', total='0'),\n",
       " Row(name='Mohamed Abarhoun', sport='Football', age='23', height='187', weight='75', country='Morocco', sex='M', gold='0', silver='0', bronze='0', total='0'),\n",
       " Row(name='Emanuele Abate', sport='Athletics', age='27', height='190', weight='80', country='Italy', sex='M', gold='0', silver='0', bronze='0', total='0'),\n",
       " Row(name='Ilyas Abbadi', sport='Boxing', age='19', height='170', weight='', country='Algeria', sex='M', gold='0', silver='0', bronze='0', total='0'),\n",
       " Row(name='Sohail Abbas', sport='Hockey', age='37', height='', weight='', country='Pakistan', sex='M', gold='0', silver='0', bronze='0', total='0'),\n",
       " Row(name='Shakeel Abbasi', sport='Hockey', age='28', height='', weight='', country='Pakistan', sex='M', gold='0', silver='0', bronze='0', total='0'),\n",
       " Row(name='Soulmaz Abbasiazad', sport='Rowing', age='28', height='173', weight='60', country='Islamic Republic of Iran', sex='F', gold='0', silver='0', bronze='0', total='0'),\n",
       " Row(name='Simona Abbate', sport='Water Polo', age='28', height='171', weight='64', country='Italy', sex='F', gold='0', silver='0', bronze='0', total='0'),\n",
       " Row(name='Ahmed Abd Elgaber', sport='Football', age='22', height='171', weight='62', country='Egypt', sex='M', gold='0', silver='0', bronze='0', total='0'),\n",
       " Row(name='Reem Abdalazem', sport='Synchronised Swimming', age='19', height='167', weight='', country='Egypt', sex='F', gold='0', silver='0', bronze='0', total='0'),\n",
       " Row(name='Mohamed Fawzi Abdalla', sport='Football', age='22', height='175', weight='63', country='United Arab Emirates', sex='M', gold='0', silver='0', bronze='0', total='0'),\n",
       " Row(name='Mohamed Abdel Baki', sport='Weightlifting', age='25', height='162', weight='69', country='Egypt', sex='M', gold='0', silver='0', bronze='0', total='0'),\n",
       " Row(name='Hesham Abdelaal', sport='Boxing', age='18', height='167', weight='', country='Egypt', sex='M', gold='0', silver='0', bronze='0', total='0'),\n",
       " Row(name='Tarek Abdelazim', sport='Weightlifting', age='25', height='175', weight='85', country='Egypt', sex='M', gold='0', silver='0', bronze='0', total='0'),\n",
       " Row(name='Shaza Abdelrahman', sport='Synchronised Swimming', age='19', height='170', weight='', country='Egypt', sex='F', gold='0', silver='0', bronze='0', total='0'),\n",
       " Row(name='Mouni Abderrahim', sport='Volleyball', age='26', height='171', weight='60', country='Algeria', sex='F', gold='0', silver='0', bronze='0', total='0'),\n",
       " Row(name='Youcef Abdi', sport='Athletics', age='34', height='177', weight='66', country='Australia', sex='M', gold='0', silver='0', bronze='0', total='0'),\n",
       " Row(name='Abdihakem Abdirahman', sport='Athletics', age='35', height='180', weight='61', country='United States of America', sex='M', gold='0', silver='0', bronze='0', total='0'),\n",
       " Row(name='Moustapha Abdoulaye Hima', sport='Boxing', age='20', height='183', weight='', country='Niger', sex='M', gold='0', silver='0', bronze='0', total='0'),\n",
       " Row(name='Dana Abdul Razak', sport='Athletics', age='26', height='165', weight='55', country='Iraq', sex='F', gold='0', silver='0', bronze='0', total='0'),\n",
       " Row(name='Magomed Abdulhamidov', sport='Boxing', age='25', height='167', weight='', country='Azerbaijan', sex='M', gold='0', silver='0', bronze='0', total='0'),\n",
       " Row(name='Muminjon Abdullaev', sport='Wrestling', age='22', height='', weight='', country='Uzbekistan', sex='M', gold='0', silver='0', bronze='0', total='0'),\n",
       " Row(name='Layes Abdullayeva', sport='Athletics', age='21', height='170', weight='47', country='Azerbaijan', sex='F', gold='0', silver='0', bronze='0', total='0'),\n",
       " Row(name='Rasul Abduraim', sport='Taekwondo', age='23', height='180', weight='', country='Kyrgyzstan', sex='M', gold='0', silver='0', bronze='0', total='0'),\n",
       " Row(name='Yusup Abdusalomov', sport='Wrestling', age='34', height='173', weight='84', country='Tajikistan', sex='M', gold='0', silver='0', bronze='0', total='0'),\n",
       " Row(name='Saeid Morad Abdvali', sport='Wrestling', age='22', height='170', weight='66', country='Islamic Republic of Iran', sex='M', gold='0', silver='0', bronze='0', total='0'),\n",
       " Row(name='Mojtaba Abedini', sport='Fencing', age='27', height='179', weight='82', country='Islamic Republic of Iran', sex='M', gold='0', silver='0', bronze='0', total='0'),\n",
       " Row(name='Jennifer Abel', sport='Diving', age='20', height='160', weight='62', country='Canada', sex='F', gold='0', silver='0', bronze='1', total='1'),\n",
       " Row(name='Yaritza Abel Rojas', sport='Judo', age='28', height='', weight='62', country='Cuba', sex='F', gold='0', silver='0', bronze='0', total='0'),\n",
       " Row(name='Pablo Abian', sport='Badminton', age='27', height='177', weight='78', country='Spain', sex='M', gold='0', silver='0', bronze='0', total='0'),\n",
       " Row(name='Tomomi Abiko', sport='Athletics', age='24', height='173', weight='53', country='Japan', sex='F', gold='0', silver='0', bronze='0', total='0'),\n",
       " Row(name='Camille Abily', sport='Football', age='27', height='168', weight='60', country='France', sex='F', gold='0', silver='0', bronze='0', total='0'),\n",
       " Row(name='Endurance Abinuwa', sport='Athletics', age='25', height='159', weight='54', country='Nigeria', sex='F', gold='0', silver='0', bronze='0', total='0'),\n",
       " Row(name='Khalil Mahmoud K Abir Abdelrahman', sport='Weightlifting', age='20', height='162', weight='75', country='Egypt', sex='F', gold='0', silver='0', bronze='0', total='0'),\n",
       " Row(name='Denis Ablyazin', sport='Gymnastics - Artistic', age='20', height='161', weight='', country='Russian Federation', sex='M', gold='0', silver='0', bronze='0', total='0'),\n",
       " Row(name='Bukola Abogunloko', sport='Athletics', age='17', height='170', weight='53', country='Nigeria', sex='F', gold='0', silver='0', bronze='0', total='0'),\n",
       " Row(name='Aminata Aboubakar Yacoub', sport='Swimming', age='23', height='166', weight='68', country='Congo', sex='F', gold='0', silver='0', bronze='0', total='0'),\n",
       " Row(name='Rabah Aboud', sport='Athletics', age='31', height='180', weight='64', country='Algeria', sex='M', gold='0', silver='0', bronze='0', total='0'),\n",
       " Row(name='Gabrielle Aboudi Onguene', sport='Football', age='23', height='152', weight='58', country='Cameroon', sex='F', gold='0', silver='0', bronze='0', total='0'),\n",
       " Row(name='Alaaeldin Abouelkassem', sport='Fencing', age='21', height='188', weight='82', country='Egypt', sex='M', gold='0', silver='1', bronze='0', total='1'),\n",
       " Row(name='Abouhalima Abouhalima', sport='Wrestling', age='18', height='153', weight='55', country='Egypt', sex='M', gold='0', silver='0', bronze='0', total='0'),\n",
       " Row(name='Mohamed Aboutrika', sport='Football', age='33', height='182', weight='77', country='Egypt', sex='M', gold='0', silver='0', bronze='0', total='0'),\n",
       " Row(name='Arnaldo Abrantes', sport='Athletics', age='25', height='184', weight='78', country='Portugal', sex='M', gold='0', silver='0', bronze='0', total='0'),\n",
       " Row(name='Amir Abrashi', sport='Football', age='22', height='172', weight='70', country='Switzerland', sex='M', gold='0', silver='0', bronze='0', total='0'),\n",
       " Row(name='Erika Abril', sport='Athletics', age='34', height='158', weight='47', country='Colombia', sex='F', gold='0', silver='0', bronze='0', total='0'),\n",
       " Row(name='Laura Valentina Abril Restrepo', sport='Cycling - Mountain Bike', age='22', height='162', weight='50', country='Colombia', sex='F', gold='0', silver='0', bronze='0', total='0'),\n",
       " Row(name='Julien Absalon', sport='Cycling - Mountain Bike', age='31', height='180', weight='68', country='France', sex='M', gold='0', silver='0', bronze='0', total='0'),\n",
       " Row(name='Ayele Abshero', sport='Athletics', age='21', height='168', weight='62', country='Ethiopia', sex='M', gold='0', silver='0', bronze='0', total='0'),\n",
       " Row(name='Methkal Abu Drais', sport='Athletics', age='28', height='168', weight='62', country='Jordan', sex='M', gold='0', silver='0', bronze='0', total='0'),\n",
       " Row(name='Maher Abu Rmilah', sport='Judo', age='28', height='172', weight='72', country='Palestine', sex='M', gold='0', silver='0', bronze='0', total='0'),\n",
       " Row(name='Mohammad Abulibdeh', sport='Taekwondo', age='28', height='183', weight='', country='Jordan', sex='M', gold='0', silver='0', bronze='0', total='0'),\n",
       " Row(name='Kanat Abutalipov', sport='Boxing', age='29', height='168', weight='', country='Kazakhstan', sex='M', gold='0', silver='0', bronze='0', total='0'),\n",
       " Row(name='Irina Abysova', sport='Triathlon', age='31', height='175', weight='58', country='Russian Federation', sex='F', gold='0', silver='0', bronze='0', total='0'),\n",
       " Row(name='Raidel Acea', sport='Athletics', age='21', height='', weight='', country='Cuba', sex='M', gold='0', silver='0', bronze='0', total='0'),\n",
       " Row(name='Abraham Acevedo', sport='Judo', age='22', height='', weight='65', country='Paraguay', sex='M', gold='0', silver='0', bronze='0', total='0'),\n",
       " Row(name='Loreto Achaerandio', sport='Gymnastics - Rhythmic', age='20', height='164', weight='', country='Spain', sex='F', gold='0', silver='0', bronze='0', total='0'),\n",
       " Row(name='Kieron Achara', sport='Basketball', age='29', height='208', weight='110', country='Great Britain', sex='M', gold='0', silver='0', bronze='0', total='0'),\n",
       " Row(name='Georgios Achilleos', sport='Shooting', age='31', height='172', weight='80', country='Cyprus', sex='M', gold='0', silver='0', bronze='0', total='0'),\n",
       " Row(name='Janet Achola', sport='Athletics', age='24', height='167', weight='52', country='Uganda', sex='F', gold='0', silver='0', bronze='0', total='0'),\n",
       " Row(name='Natalie Achonwa', sport='Basketball', age='19', height='192', weight='83', country='Canada', sex='F', gold='0', silver='0', bronze='0', total='0'),\n",
       " Row(name='Dallal Merwa Achour', sport='Volleyball', age='17', height='175', weight='60', country='Algeria', sex='F', gold='0', silver='0', bronze='0', total='0'),\n",
       " Row(name='Haikel Achouri', sport='Wrestling', age='27', height='184', weight='84', country='Tunisia', sex='M', gold='0', silver='0', bronze='0', total='0'),\n",
       " Row(name='Chantal Achterberg', sport='Rowing', age='27', height='171', weight='72', country='Netherlands', sex='F', gold='0', silver='0', bronze='1', total='1'),\n",
       " Row(name='Luz Mercedes Acosta Valdez', sport='Weightlifting', age='31', height='166', weight='63', country='Mexico', sex='F', gold='0', silver='0', bronze='0', total='0'),\n",
       " Row(name='Amy Acuff', sport='Athletics', age='37', height='188', weight='66', country='United States of America', sex='F', gold='0', silver='0', bronze='0', total='0'),\n",
       " Row(name='Crox Acuna Rodriguez', sport='Swimming', age='22', height='192', weight='89', country='Venezuela', sex='M', gold='0', silver='0', bronze='0', total='0'),\n",
       " Row(name='Mariko Adachi', sport='Triathlon', age='29', height='162', weight='51', country='Japan', sex='F', gold='0', silver='0', bronze='0', total='0'),\n",
       " Row(name='Yumi Adachi', sport='Synchronised Swimming', age='23', height='160', weight='', country='Japan', sex='F', gold='0', silver='0', bronze='0', total='0'),\n",
       " Row(name='Idrissa Adam', sport='Athletics', age='27', height='178', weight='79', country='Cameroon', sex='M', gold='0', silver='0', bronze='0', total='0'),\n",
       " Row(name='Tomasz Adamiec', sport='Judo', age='30', height='171', weight='73', country='Poland', sex='M', gold='0', silver='0', bronze='0', total='0'),\n",
       " Row(name='Antoine Adams', sport='Athletics', age='23', height='180', weight='79', country='Saint Kitts and Nevis', sex='M', gold='0', silver='0', bronze='0', total='0'),\n",
       " Row(name='Cammile Adams', sport='Swimming', age='20', height='173', weight='65', country='United States of America', sex='F', gold='0', silver='0', bronze='0', total='0'),\n",
       " Row(name='Luke Adams', sport='Athletics', age='35', height='189', weight='70', country='Australia', sex='M', gold='0', silver='0', bronze='0', total='0'),\n",
       " Row(name='Lyukman Adams', sport='Athletics', age='23', height='194', weight='87', country='Russian Federation', sex='M', gold='0', silver='0', bronze='0', total='0'),\n",
       " Row(name='Nicola Adams', sport='Boxing', age='29', height='164', weight='', country='Great Britain', sex='F', gold='0', silver='0', bronze='0', total='0'),\n",
       " Row(name='Valerie Adams', sport='Athletics', age='27', height='193', weight='120', country='New Zealand', sex='F', gold='0', silver='0', bronze='0', total='0'),\n",
       " Row(name='Filip Adamski', sport='Rowing', age='29', height='189', weight='90', country='Germany', sex='M', gold='1', silver='0', bronze='0', total='1'),\n",
       " Row(name='Jakub Adamski', sport='Athletics', age='24', height='183', weight='75', country='Poland', sex='M', gold='0', silver='0', bronze='0', total='0'),\n",
       " Row(name='Chris Adcock', sport='Badminton', age='23', height='183', weight='80', country='Great Britain', sex='M', gold='0', silver='0', bronze='0', total='0'),\n",
       " Row(name='Jangy Addy', sport='Athletics', age='27', height='188', weight='88', country='Liberia', sex='M', gold='0', silver='0', bronze='0', total='0'),\n",
       " Row(name='Abrar Osman Adem', sport='Athletics', age='18', height='168', weight='58', country='Eritrea', sex='M', gold='0', silver='0', bronze='0', total='0'),\n",
       " Row(name='Margaret Adeoye', sport='Athletics', age='27', height='162', weight='65', country='Great Britain', sex='F', gold='0', silver='0', bronze='0', total='0'),\n",
       " Row(name='Seun Adigun', sport='Athletics', age='25', height='153', weight='52', country='Nigeria', sex='F', gold='0', silver='0', bronze='0', total='0'),\n",
       " Row(name='Jonna Adlerteg', sport='Gymnastics - Artistic', age='17', height='153', weight='', country='Sweden', sex='F', gold='0', silver='0', bronze='0', total='0'),\n",
       " Row(name='Rebecca Adlington', sport='Swimming', age='23', height='179', weight='70', country='Great Britain', sex='F', gold='0', silver='0', bronze='1', total='1'),\n",
       " Row(name='Nathan Adrian', sport='Swimming', age='23', height='201', weight='102', country='United States of America', sex='M', gold='1', silver='1', bronze='0', total='2'),\n",
       " Row(name='Jasper Aerents', sport='Swimming', age='19', height='190', weight='84', country='Belgium', sex='M', gold='0', silver='0', bronze='0', total='0'),\n",
       " Row(name='Sara Aerts', sport='Athletics', age='28', height='182', weight='64', country='Belgium', sex='F', gold='0', silver='0', bronze='0', total='0'),\n",
       " Row(name='Kseniia Afanaseva', sport='Gymnastics - Artistic', age='20', height='158', weight='', country='Russian Federation', sex='F', gold='0', silver='1', bronze='0', total='1'),\n",
       " Row(name='Francois Affolter', sport='Football', age='21', height='186', weight='74', country='Switzerland', sex='M', gold='0', silver='0', bronze='0', total='0'),\n",
       " Row(name='Alvaro Affonso de Miranda Neto', sport='Equestrian', age='39', height='', weight='', country='Brazil', sex='M', gold='0', silver='0', bronze='0', total='0'),\n",
       " Row(name='Christos Afroudakis', sport='Water Polo', age='28', height='188', weight='88', country='Greece', sex='M', gold='0', silver='0', bronze='0', total='0'),\n",
       " Row(name='Georgios Afroudakis', sport='Water Polo', age='35', height='194', weight='103', country='Greece', sex='M', gold='0', silver='0', bronze='0', total='0'),\n",
       " Row(name='Dragos Agache', sport='Swimming', age='28', height='175', weight='75', country='Romania', sex='M', gold='0', silver='0', bronze='0', total='0')]"
      ]
     },
     "execution_count": 8,
     "metadata": {},
     "output_type": "execute_result"
    }
   ],
   "source": [
    "# To read csv and return a list of named tuples:\n",
    "# 1. Open the file and get each line using file.readlines()\n",
    "# 2. Pull out the headers from the first line.\n",
    "#    I use strip() to remove all surround white space (including new lines)\n",
    "#    and then use split(\",\") to split the string into list of words using \",\" as the delimiter.\n",
    "# 3. Create the named tuple using the headers\n",
    "# 4. Interate through the rest of the lines\n",
    "# 5. For each line, use the namedtuple function _make(...) and pass in the list of values.\n",
    "#    I use strip() to remove all surround white space (including new lines)\n",
    "#    and then use split(\",\") to split the string into list of words using \",\" as the delimiter.\n",
    "# 6. Append that namedtuple to rows\n",
    "from collections import namedtuple\n",
    "\n",
    "def read_csv(filename, dtypes={}, encoding='utf-8'):\n",
    "    \"\"\" Returns a list of namedtuples. \n",
    "    The fields in each namedtuple are specified by the header row.\"\"\"\n",
    "    rows = []\n",
    "    headers = []\n",
    "    \n",
    "    with open(filename) as file:\n",
    "        data = file.readlines()\n",
    "        headers = data[0].strip().split(\",\")\n",
    "        Row = namedtuple(\"Row\", headers)\n",
    "        for line in data[1:]:\n",
    "            row = Row._make(line.strip().split(\",\"))\n",
    "            rows.append(Row._make(line.strip().split(\",\")))\n",
    "    \n",
    "    return rows\n",
    "\n",
    "\n",
    "# For the challenge problem only\n",
    "dtypes = {'age': int, 'height': int, 'weight': int, \n",
    "          'gold': int, 'silver': int, 'bronze': int, 'total': int}\n",
    "\n",
    "read_csv('./datasets/athletes-unquoted.csv', dtypes=dtypes)[:100]"
   ]
  },
  {
   "cell_type": "markdown",
   "metadata": {},
   "source": [
    "### Explanation\n",
    "To read csv and return a list of named tuples:\n",
    "1. Open the file and get each line using file.readlines()\n",
    "2. Pull out the headers from the first line.\n",
    "   I use strip() to remove all surround white space (including new lines)\n",
    "   and then use split(\",\") to split the string into list of words using \",\" as the delimiter.\n",
    "3. Create the named tuple using the headers\n",
    "4. Interate through the rest of the lines\n",
    "5. For each line, use the namedtuple function _make(...) and pass in the list of values.\n",
    "   I use strip() to remove all surround white space (including new lines)\n",
    "   and then use split(\",\") to split the string into list of words using \",\" as the delimiter.\n",
    "6. Append that namedtuple to rows"
   ]
  },
  {
   "cell_type": "markdown",
   "metadata": {},
   "source": [
    "### *BONUS* Challenge: FizzBuzz\n",
    "Write a program that prints all of the numbers from 1 to 100. For multiples of 3, instead of the number, print \"Fizz;\" for multiples of 5, print \"Buzz.\" For numbers that are multiples of both 3 and 5, print \"FizzBuzz.\" Afterward, write a brief explanation walking through your code's logic in markdown."
   ]
  },
  {
   "cell_type": "code",
   "execution_count": 9,
   "metadata": {},
   "outputs": [
    {
     "name": "stdout",
     "output_type": "stream",
     "text": [
      "1\n",
      "2\n",
      "Fizz\n",
      "4\n",
      "Buzz\n",
      "Fizz\n",
      "7\n",
      "8\n",
      "Fizz\n",
      "Buzz\n",
      "11\n",
      "Fizz\n",
      "13\n",
      "14\n",
      "FizzBuzz\n",
      "16\n",
      "17\n",
      "Fizz\n",
      "19\n",
      "Buzz\n",
      "Fizz\n",
      "22\n",
      "23\n",
      "Fizz\n",
      "Buzz\n",
      "26\n",
      "Fizz\n",
      "28\n",
      "29\n",
      "FizzBuzz\n",
      "31\n",
      "32\n",
      "Fizz\n",
      "34\n",
      "Buzz\n",
      "Fizz\n",
      "37\n",
      "38\n",
      "Fizz\n",
      "Buzz\n",
      "41\n",
      "Fizz\n",
      "43\n",
      "44\n",
      "FizzBuzz\n",
      "46\n",
      "47\n",
      "Fizz\n",
      "49\n",
      "Buzz\n",
      "Fizz\n",
      "52\n",
      "53\n",
      "Fizz\n",
      "Buzz\n",
      "56\n",
      "Fizz\n",
      "58\n",
      "59\n",
      "FizzBuzz\n",
      "61\n",
      "62\n",
      "Fizz\n",
      "64\n",
      "Buzz\n",
      "Fizz\n",
      "67\n",
      "68\n",
      "Fizz\n",
      "Buzz\n",
      "71\n",
      "Fizz\n",
      "73\n",
      "74\n",
      "FizzBuzz\n",
      "76\n",
      "77\n",
      "Fizz\n",
      "79\n",
      "Buzz\n",
      "Fizz\n",
      "82\n",
      "83\n",
      "Fizz\n",
      "Buzz\n",
      "86\n",
      "Fizz\n",
      "88\n",
      "89\n",
      "FizzBuzz\n",
      "91\n",
      "92\n",
      "Fizz\n",
      "94\n",
      "Buzz\n",
      "Fizz\n",
      "97\n",
      "98\n",
      "Fizz\n",
      "Buzz\n"
     ]
    }
   ],
   "source": [
    "# To print the fizzbuzz series:\n",
    "# 1. Iterate through range(1, 101)\n",
    "# 2. If the number is divisible by 3 and 5, print FizzBuzz\n",
    "# 3. If the number is divisible by 5, print Buzz\n",
    "# 4. If the number is divisible by 3, print Fizz\n",
    "# 5. Otherwise, print the number\n",
    "for i in range(1,101):\n",
    "    if i % 3 == 0 and i % 5 == 0:\n",
    "        print(\"FizzBuzz\")\n",
    "    elif i % 5 == 0:\n",
    "        print(\"Buzz\")\n",
    "    elif i % 3 == 0:\n",
    "        print(\"Fizz\")\n",
    "    else:\n",
    "        print(i)"
   ]
  },
  {
   "cell_type": "markdown",
   "metadata": {},
   "source": [
    "### Explanation\n",
    "To print the fizzbuzz series:\n",
    "1. Iterate through range(1, 101)\n",
    "2. If the number is divisible by 3 and 5, print FizzBuzz\n",
    "3. If the number is divisible by 5, print Buzz\n",
    "4. If the number is divisible by 3, print Fizz\n",
    "5. Otherwise, print the number"
   ]
  }
 ],
 "metadata": {
  "anaconda-cloud": {},
  "kernelspec": {
   "display_name": "Python 3",
   "language": "python",
   "name": "python3"
  },
  "language_info": {
   "codemirror_mode": {
    "name": "ipython",
    "version": 3
   },
   "file_extension": ".py",
   "mimetype": "text/x-python",
   "name": "python",
   "nbconvert_exporter": "python",
   "pygments_lexer": "ipython3",
   "version": "3.7.3"
  }
 },
 "nbformat": 4,
 "nbformat_minor": 2
}
