{
 "cells": [
  {
   "cell_type": "markdown",
   "metadata": {},
   "source": [
    "<img src=\"http://imgur.com/1ZcRyrc.png\" style=\"float: left; margin: 20px; height: 55px\">\n",
    "\n",
    "# Project 1: Python Coding Exercises\n",
    "\n",
    "_Authors: Joseph Nelson (DC), Dan Wilhelm (LA)_\n",
    "\n",
    "---"
   ]
  },
  {
   "cell_type": "markdown",
   "metadata": {},
   "source": [
    "The following code challenges are drawn from common exercises used in technical interviews.\n",
    "\n",
    "Please note that there may be several ways to approach each challenge. If you get stuck, try mapping out your approach in pseudocode first. Finally, while solutions to problems like these may be found online, remember that if you copy/paste code that you can't explain, you'll be missing out on the point of the project. The only way to truly learn a new skill is through practice, trial, and error - we can only help you improve by understanding where you are having trouble."
   ]
  },
  {
   "cell_type": "markdown",
   "metadata": {},
   "source": [
    "### Challenge 1: Largest Palindrome\n",
    "A palindromic number reads the same both ways. For example, 1234321 is a palindrome. The largest palindrome made from the product of two two-digit numbers is 9009 = 91 × 99. Find the largest palindrome made from the product of two three-digit numbers. Afterward, write a brief explanation walking through your code's logic in markdown."
   ]
  },
  {
   "cell_type": "code",
   "execution_count": null,
   "metadata": {},
   "outputs": [],
   "source": []
  },
  {
   "cell_type": "markdown",
   "metadata": {},
   "source": [
    "\n",
    "### Challenge 2: Summation of Primes\n",
    "The sum of the primes below 10 is 2 + 3 + 5 + 7 = 17. Find the sum of all the primes below 2,000. Afterward, write a brief explanation walking through your code's logic in markdown."
   ]
  },
  {
   "cell_type": "code",
   "execution_count": null,
   "metadata": {},
   "outputs": [],
   "source": []
  },
  {
   "cell_type": "markdown",
   "metadata": {},
   "source": [
    "### Challenge 3: Multiples of 3 and 5\n",
    "If we list all of the natural numbers below 10 that are multiples of 3 or 5, we get 3, 5, 6, and 9. The sum of these multiples is 23. Find the sum of all the multiples of 3 and 5 below 1,000. Afterward, write a brief explanation walking through your code's logic in markdown."
   ]
  },
  {
   "cell_type": "code",
   "execution_count": null,
   "metadata": {},
   "outputs": [],
   "source": []
  },
  {
   "cell_type": "markdown",
   "metadata": {},
   "source": [
    "### Challenge 4: String Compressor\n",
    "Write a function to perform basic string compression using the counts of repeated characters. (This is called run-length encoding.) For example, the string \"aabcccccaaa\" would become a2b1c5a3. If the “compressed” string would not become smaller than the original string, your method should return the original string. You can assume the string has only uppercase and lowercase letters (a–z). Specify whether your solution is case sensitive or case insensitive and what you would need to change to make it the other. Afterward, write a brief explanation walking through your code's logic in markdown."
   ]
  },
  {
   "cell_type": "code",
   "execution_count": null,
   "metadata": {},
   "outputs": [],
   "source": []
  },
  {
   "cell_type": "markdown",
   "metadata": {},
   "source": [
    "### Challenge 5: CSV Reader\n",
    "Write a function `read_csv` that opens a CSV file and returns a list of named tuples. \n",
    "\n",
    "+ Read the [namedtuple docs](https://docs.python.org/3/library/collections.html#collections.namedtuple).\n",
    "+ Do not use the Python CSV reader standard library.\n",
    "+ Assume the first row of the CSV file is always a header row. \n",
    "+ Assume the CSV file does not contain any quoted fields.\n",
    "+ Assume no fields are missing or have invalid values.\n",
    "+ All returned fields can be left as strings.\n",
    "\n",
    "Optional challenges:\n",
    "+ _Optional:_ Support quoted fields. (A double-quoted string can contain commas without indicating a new field.) For an example and test case, see `./data/athletes-original.csv`.\n",
    "+ _Optional:_ Implement the `dtypes` parameter. This dictionary specifies the data type that each CSV field should be converted to. For example, `int` would indicate the field should be converted from a string to an integer. If a field is not named, leave it as a string. See the dictionary in the below starter code for an example.\n",
    "\n",
    "_Hint:_ The final output will look like:\n",
    "\n",
    "[Row(name='Lamusi A', sport='Judo', age='23', height='170', weight='60', country=\"People's Republic of China\", sex='M', gold='0', silver='0', bronze='0', total='0'), \n",
    "\n",
    "Row(name='A G Kruger', sport='Athletics', age='33', height='193', weight='125', country='United States of America', sex='M', gold='0', silver='0', bronze='0', total='0'),\n",
    "\n",
    "...]"
   ]
  },
  {
   "cell_type": "code",
   "execution_count": null,
   "metadata": {},
   "outputs": [],
   "source": [
    "from collections import namedtuple\n",
    "\n",
    "def read_csv(filename, dtypes={}, encoding='utf-8'):\n",
    "    \"\"\" Returns a list of namedtuples. \n",
    "    The fields in each namedtuple are specified by the header row.\"\"\"\n",
    "    rows = []\n",
    "    \n",
    "    # Your code here!\n",
    "    \n",
    "    return rows\n",
    "\n",
    "\n",
    "# For the challenge problem only\n",
    "dtypes = {'age': int, 'height': int, 'weight': int, \n",
    "          'gold': int, 'silver': int, 'bronze': int, 'total': int}\n",
    "\n",
    "read_csv('./datasets/athletes-unquoted.csv', dtypes=dtypes)"
   ]
  },
  {
   "cell_type": "markdown",
   "metadata": {},
   "source": [
    "### *BONUS* Challenge: FizzBuzz\n",
    "Write a program that prints all of the numbers from 1 to 100. For multiples of 3, instead of the number, print \"Fizz;\" for multiples of 5, print \"Buzz.\" For numbers that are multiples of both 3 and 5, print \"FizzBuzz.\" Afterward, write a brief explanation walking through your code's logic in markdown."
   ]
  },
  {
   "cell_type": "code",
   "execution_count": null,
   "metadata": {},
   "outputs": [],
   "source": []
  }
 ],
 "metadata": {
  "anaconda-cloud": {},
  "kernelspec": {
   "display_name": "Python 3",
   "language": "python",
   "name": "python3"
  },
  "language_info": {
   "codemirror_mode": {
    "name": "ipython",
    "version": 3
   },
   "file_extension": ".py",
   "mimetype": "text/x-python",
   "name": "python",
   "nbconvert_exporter": "python",
   "pygments_lexer": "ipython3",
   "version": "3.7.3"
  }
 },
 "nbformat": 4,
 "nbformat_minor": 2
}
